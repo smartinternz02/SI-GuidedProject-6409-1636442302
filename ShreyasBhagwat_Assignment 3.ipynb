{
  "nbformat": 4,
  "nbformat_minor": 0,
  "metadata": {
    "accelerator": "GPU",
    "colab": {
      "name": "CNN CIFAR10 Dataset.ipynb",
      "provenance": [],
      "collapsed_sections": []
    },
    "kernelspec": {
      "display_name": "Python 3",
      "name": "python3"
    },
    "language_info": {
      "name": "python"
    }
  },
  "cells": [
    {
      "cell_type": "code",
      "metadata": {
        "id": "3FdPWtk8LbQP"
      },
      "source": [
        "import tensorflow as tf \n",
        "from tensorflow.keras import datasets,layers,models\n",
        "import matplotlib.pyplot as plt\n",
        "import numpy as np"
      ],
      "execution_count": null,
      "outputs": []
    },
    {
      "cell_type": "code",
      "metadata": {
        "id": "EYzHjK88MCSN"
      },
      "source": [
        "(x_train,y_train),(x_test,y_test)=datasets.cifar10.load_data()"
      ],
      "execution_count": null,
      "outputs": []
    },
    {
      "cell_type": "code",
      "metadata": {
        "colab": {
          "base_uri": "https://localhost:8080/"
        },
        "id": "RyTajEGBMay0",
        "outputId": "fbf58ba5-5585-4392-e978-0dd11ce5384c"
      },
      "source": [
        "x_train.shape     #32,32 is dimensionand 3 means RGB channel"
      ],
      "execution_count": null,
      "outputs": [
        {
          "output_type": "execute_result",
          "data": {
            "text/plain": [
              "(50000, 32, 32, 3)"
            ]
          },
          "metadata": {
            "tags": []
          },
          "execution_count": 3
        }
      ]
    },
    {
      "cell_type": "code",
      "metadata": {
        "colab": {
          "base_uri": "https://localhost:8080/"
        },
        "id": "1Dl2SkVHMc2a",
        "outputId": "332b59c3-7255-4974-8f4b-7b93bab62498"
      },
      "source": [
        "x_test.shape"
      ],
      "execution_count": null,
      "outputs": [
        {
          "output_type": "execute_result",
          "data": {
            "text/plain": [
              "(10000, 32, 32, 3)"
            ]
          },
          "metadata": {
            "tags": []
          },
          "execution_count": 4
        }
      ]
    },
    {
      "cell_type": "code",
      "metadata": {
        "colab": {
          "base_uri": "https://localhost:8080/",
          "height": 283
        },
        "id": "ZKERj3fUMfqL",
        "outputId": "76878a71-9600-4567-b155-c19264f14227"
      },
      "source": [
        "plt.imshow(x_train[0]) # or plt.matshow(x_train[0])"
      ],
      "execution_count": null,
      "outputs": [
        {
          "output_type": "execute_result",
          "data": {
            "text/plain": [
              "<matplotlib.image.AxesImage at 0x7f5748f3ba90>"
            ]
          },
          "metadata": {
            "tags": []
          },
          "execution_count": 5
        },
        {
          "output_type": "display_data",
          "data": {
            "image/png": "[encoded data removed]",
            "text/plain": [
              "<Figure size 432x288 with 1 Axes>"
            ]
          },
          "metadata": {
            "tags": []
          }
        }
      ]
    },
    {
      "cell_type": "code",
      "metadata": {
        "colab": {
          "base_uri": "https://localhost:8080/"
        },
        "id": "CksW5REgNi--",
        "outputId": "4e622903-7153-4bc8-ddb1-25826a1b3237"
      },
      "source": [
        "y_train.shape"
      ],
      "execution_count": null,
      "outputs": [
        {
          "output_type": "execute_result",
          "data": {
            "text/plain": [
              "(50000, 1)"
            ]
          },
          "metadata": {
            "tags": []
          },
          "execution_count": 6
        }
      ]
    },
    {
      "cell_type": "code",
      "metadata": {
        "colab": {
          "base_uri": "https://localhost:8080/"
        },
        "id": "pBDbHBnSNu2M",
        "outputId": "1c6e658b-a08c-414f-e5f5-79100ff1f893"
      },
      "source": [
        "y_train[:5]              # returns class number of the class "
      ],
      "execution_count": null,
      "outputs": [
        {
          "output_type": "execute_result",
          "data": {
            "text/plain": [
              "array([[6],\n",
              "       [9],\n",
              "       [9],\n",
              "       [4],\n",
              "       [1]], dtype=uint8)"
            ]
          },
          "metadata": {
            "tags": []
          },
          "execution_count": 7
        }
      ]
    },
    {
      "cell_type": "code",
      "metadata": {
        "colab": {
          "base_uri": "https://localhost:8080/"
        },
        "id": "xiEBHnLtNukT",
        "outputId": "4dbae329-e25e-4031-dd44-4980fd23e4b2"
      },
      "source": [
        "# As it is 2D we will change it to 1D i.e.flatten it \n",
        "y_train=y_train.reshape(-1,)  # -1 means we dont want to change 5000 wali dimension\n",
        "y_train[:5]"
      ],
      "execution_count": null,
      "outputs": [
        {
          "output_type": "execute_result",
          "data": {
            "text/plain": [
              "array([6, 9, 9, 4, 1], dtype=uint8)"
            ]
          },
          "metadata": {
            "tags": []
          },
          "execution_count": 8
        }
      ]
    },
    {
      "cell_type": "code",
      "metadata": {
        "id": "9AqD6RdmOXnk"
      },
      "source": [
        "classes=[\"airplane\",\"automobile\",\"bird\",\"cat\",\"deer\",\"dog\",\"frog\",\"horse\",\"ship\",\"truck\"]"
      ],
      "execution_count": null,
      "outputs": []
    },
    {
      "cell_type": "code",
      "metadata": {
        "id": "0BXvbKZ7MqTD"
      },
      "source": [
        " def plot_sample(X,y,index):\n",
        "   plt.figure(figsize=(15,2))\n",
        "   plt.imshow(X[index])\n",
        "   plt.xlabel(classes[y[index]])"
      ],
      "execution_count": null,
      "outputs": []
    },
    {
      "cell_type": "code",
      "metadata": {
        "colab": {
          "base_uri": "https://localhost:8080/",
          "height": 173
        },
        "id": "0FE8G60BPD8e",
        "outputId": "0ec3a9d6-883a-46be-b75c-ea2615e0e6a7"
      },
      "source": [
        "plot_sample(x_train,y_train,100)"
      ],
      "execution_count": null,
      "outputs": [
        {
          "output_type": "display_data",
          "data": {
            "image/png": "[encoded data removed]",
            "text/plain": [
              "<Figure size 1080x144 with 1 Axes>"
            ]
          },
          "metadata": {
            "tags": []
          }
        }
      ]
    },
    {
      "cell_type": "code",
      "metadata": {
        "colab": {
          "base_uri": "https://localhost:8080/",
          "height": 173
        },
        "id": "ktTLXoP5PNCU",
        "outputId": "f843a02d-4fc5-4fe6-d9c2-720909db957b"
      },
      "source": [
        "plot_sample(x_train,y_train,5)\n"
      ],
      "execution_count": null,
      "outputs": [
        {
          "output_type": "display_data",
          "data": {
            "image/png": "[encoded data removed]",
            "text/plain": [
              "<Figure size 1080x144 with 1 Axes>"
            ]
          },
          "metadata": {
            "tags": []
          }
        }
      ]
    },
    {
      "cell_type": "markdown",
      "metadata": {
        "id": "i0JCCtyoQoAd"
      },
      "source": [
        "## Lets normalize it <br>\n",
        "Normalize the images to a number from 0 to 1. Image has 3 channels (R,G,B) and each value in the channel can range from 0 to 255. Hence to normalize in 0-->1 range, we need to divide it by 255"
      ]
    },
    {
      "cell_type": "code",
      "metadata": {
        "id": "WWVRQ19LPskb"
      },
      "source": [
        "\n",
        "X_train=x_train/255.0\n",
        "X_test=x_test/255.0\n",
        "# you can use Std Scaler also"
      ],
      "execution_count": null,
      "outputs": []
    },
    {
      "cell_type": "markdown",
      "metadata": {
        "id": "wzmDCvs9QUQC"
      },
      "source": [
        "# Lets Build simple ANN so that we can compare it with our CNN in later part "
      ]
    },
    {
      "cell_type": "code",
      "metadata": {
        "colab": {
          "base_uri": "https://localhost:8080/"
        },
        "id": "HmA7OCd0QHx7",
        "outputId": "8d4e0319-7553-499e-8905-6f69a8ae4d30"
      },
      "source": [
        "ann= models.Sequential([\n",
        "                         layers.Flatten(input_shape=(32,32,3)),\n",
        "                         layers.Dense(3000,activation='relu'),\n",
        "                         layers.Dense(1500,activation='relu'),\n",
        "                         layers.Dense(10,activation='sigmoid')\n",
        "                         \n",
        "])\n",
        "\n",
        "ann.compile(optimizer=\"SGD\",loss='sparse_categorical_crossentropy',metrics=[\"accuracy\"])\n",
        "ann.fit(X_train,y_train,epochs=5)"
      ],
      "execution_count": null,
      "outputs": [
        {
          "output_type": "stream",
          "text": [
            "Epoch 1/5\n",
            "1563/1563 [==============================] - 6s 3ms/step - loss: 1.8070 - accuracy: 0.3589\n",
            "Epoch 2/5\n",
            "1563/1563 [==============================] - 5s 3ms/step - loss: 1.6193 - accuracy: 0.4289\n",
            "Epoch 3/5\n",
            "1563/1563 [==============================] - 5s 3ms/step - loss: 1.5365 - accuracy: 0.4602\n",
            "Epoch 4/5\n",
            "1563/1563 [==============================] - 5s 3ms/step - loss: 1.4784 - accuracy: 0.4784\n",
            "Epoch 5/5\n",
            "1563/1563 [==============================] - 5s 3ms/step - loss: 1.4281 - accuracy: 0.4986\n"
          ],
          "name": "stdout"
        },
        {
          "output_type": "execute_result",
          "data": {
            "text/plain": [
              "<tensorflow.python.keras.callbacks.History at 0x7f56fe092c50>"
            ]
          },
          "metadata": {
            "tags": []
          },
          "execution_count": 14
        }
      ]
    },
    {
      "cell_type": "markdown",
      "metadata": {
        "id": "eLZaVY2KWj-3"
      },
      "source": [
        "**You can see that at the end of 5 epochs, accuracy is at around 49.69%**"
      ]
    },
    {
      "cell_type": "markdown",
      "metadata": {
        "id": "r5wq8emDXDwb"
      },
      "source": [
        "If Y is your hot encode means y=[0,0,1,0] \n",
        "we use **loss= categorical_cross entropy** \n",
        "\n",
        "If Y is Direct Value like **Y=8** we use **loss= sparse_categorical_cross entropy**"
      ]
    },
    {
      "cell_type": "code",
      "metadata": {
        "colab": {
          "base_uri": "https://localhost:8080/"
        },
        "id": "sSgSzSEUXpQs",
        "outputId": "93acb78a-da4e-412b-e6a4-42a555226234"
      },
      "source": [
        "ann.evaluate(X_test, y_test,batch_size=100)"
      ],
      "execution_count": null,
      "outputs": [
        {
          "output_type": "stream",
          "text": [
            "100/100 [==============================] - 0s 3ms/step - loss: 1.4952 - accuracy: 0.4703\n"
          ],
          "name": "stdout"
        },
        {
          "output_type": "execute_result",
          "data": {
            "text/plain": [
              "[1.4951635599136353, 0.47029998898506165]"
            ]
          },
          "metadata": {
            "tags": []
          },
          "execution_count": 15
        }
      ]
    },
    {
      "cell_type": "code",
      "metadata": {
        "colab": {
          "base_uri": "https://localhost:8080/"
        },
        "id": "bq4ZzOpLYVhA",
        "outputId": "035dcf08-e4c7-40ee-c984-0d0fa9d0cd38"
      },
      "source": [
        "y_pred = ann.predict(X_test)\n",
        "y_pred[0]"
      ],
      "execution_count": null,
      "outputs": [
        {
          "output_type": "execute_result",
          "data": {
            "text/plain": [
              "array([0.23090509, 0.42266753, 0.64827776, 0.9227664 , 0.4642437 ,\n",
              "       0.8493308 , 0.85309535, 0.04370362, 0.6147513 , 0.12335659],\n",
              "      dtype=float32)"
            ]
          },
          "metadata": {
            "tags": []
          },
          "execution_count": 16
        }
      ]
    },
    {
      "cell_type": "code",
      "metadata": {
        "colab": {
          "base_uri": "https://localhost:8080/"
        },
        "id": "bm5bxRraX2zM",
        "outputId": "0e597f95-4b55-4faa-f5d7-981b8802dc48"
      },
      "source": [
        "from sklearn.metrics import confusion_matrix , classification_report\n",
        "import numpy as np\n",
        "\n",
        "y_pred_classes = [np.argmax(element) for element in y_pred]\n",
        "\n",
        "print(\"Classification Report: \\n\", classification_report(y_test, y_pred_classes))"
      ],
      "execution_count": null,
      "outputs": [
        {
          "output_type": "stream",
          "text": [
            "Classification Report: \n",
            "               precision    recall  f1-score   support\n",
            "\n",
            "           0       0.73      0.35      0.48      1000\n",
            "           1       0.64      0.59      0.61      1000\n",
            "           2       0.46      0.20      0.27      1000\n",
            "           3       0.33      0.29      0.31      1000\n",
            "           4       0.49      0.30      0.38      1000\n",
            "           5       0.35      0.46      0.40      1000\n",
            "           6       0.36      0.79      0.50      1000\n",
            "           7       0.70      0.37      0.48      1000\n",
            "           8       0.50      0.75      0.60      1000\n",
            "           9       0.53      0.59      0.56      1000\n",
            "\n",
            "    accuracy                           0.47     10000\n",
            "   macro avg       0.51      0.47      0.46     10000\n",
            "weighted avg       0.51      0.47      0.46     10000\n",
            "\n"
          ],
          "name": "stdout"
        }
      ]
    },
    {
      "cell_type": "markdown",
      "metadata": {
        "id": "OQ2eFlKlZJux"
      },
      "source": [
        "# Now let us build a convolutional neural network to train our images"
      ]
    },
    {
      "cell_type": "code",
      "metadata": {
        "id": "zpFSWA7EYksF"
      },
      "source": [
        "cnn= models.Sequential([\n",
        "                        #cnn layer \n",
        "                        layers.Conv2D(filters=32,kernel_size=(3,3),activation='relu',input_shape=(32,32,3)),\n",
        "                        #filters =32 means 32 filter matrixs & kernal size means dimension of each matrix \n",
        "                        layers.MaxPooling2D((2,2)),\n",
        "\n",
        "                        #you can add another if you want\n",
        "                        layers.Conv2D(filters=32, kernel_size=(3,3),activation='relu'),\n",
        "                        layers.MaxPooling2D((2,2)),\n",
        "\n",
        "\n",
        "                         #dense layer\n",
        "                         layers.Flatten(), #coz we are  in middle layer nd network will figure it out automatically\n",
        "                         layers.Dense(64,activation='relu'),\n",
        "                         layers.Dense(10,activation='softmax') #softmax normalize output\n",
        "                         \n",
        "])"
      ],
      "execution_count": null,
      "outputs": []
    },
    {
      "cell_type": "markdown",
      "metadata": {
        "id": "6tlB3hzraEQm"
      },
      "source": [
        "First we add convolution layer then we add pooling layer \n",
        "\n",
        "\n",
        "As max work will be done by cnn layer we can keep neurons in ann minimum \n",
        "\n",
        "\n",
        "Output of sigmoids are not normalized i.e. sum of all possible values wont give one like [0.45,0.67], But softmax normalize it \n",
        "like 0.45/sum of all values , 0.67/sum of all values.<br>\n",
        "\n",
        "**Note** - *Sigmoid is proper activation function for Binary Classification*"
      ]
    },
    {
      "cell_type": "markdown",
      "metadata": {
        "id": "pFVjiDJTcJoC"
      },
      "source": [
        "### Architecture\n",
        "![image.png](data:image/png;base64,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)"
      ]
    },
    {
      "cell_type": "code",
      "metadata": {
        "colab": {
          "background_save": true,
          "base_uri": "https://localhost:8080/"
        },
        "id": "M9TCOwLraIGs",
        "outputId": "a8502a85-cdbd-44f5-eb34-d6a790f97dac"
      },
      "source": [
        "cnn.compile(optimizer=\"adam\",loss='sparse_categorical_crossentropy',metrics=[\"accuracy\"])\n",
        "cnn.fit(X_train,y_train,epochs=25)"
      ],
      "execution_count": null,
      "outputs": [
        {
          "output_type": "stream",
          "text": [
            "Epoch 1/25\n",
            "1563/1563 [==============================] - 6s 3ms/step - loss: 0.5879 - accuracy: 0.7931\n",
            "Epoch 2/25\n",
            "1563/1563 [==============================] - 5s 3ms/step - loss: 0.5649 - accuracy: 0.7997\n",
            "Epoch 3/25\n",
            "1563/1563 [==============================] - 5s 3ms/step - loss: 0.5430 - accuracy: 0.8076\n",
            "Epoch 4/25\n",
            "1563/1563 [==============================] - 5s 3ms/step - loss: 0.5312 - accuracy: 0.8104\n",
            "Epoch 5/25\n",
            "1563/1563 [==============================] - 5s 3ms/step - loss: 0.5140 - accuracy: 0.8176\n",
            "Epoch 6/25\n",
            "1563/1563 [==============================] - 5s 3ms/step - loss: 0.4981 - accuracy: 0.8230\n",
            "Epoch 7/25\n",
            "1563/1563 [==============================] - 5s 3ms/step - loss: 0.4812 - accuracy: 0.8286\n",
            "Epoch 8/25\n",
            "1563/1563 [==============================] - 5s 3ms/step - loss: 0.4695 - accuracy: 0.8332\n",
            "Epoch 9/25\n",
            "1563/1563 [==============================] - 5s 3ms/step - loss: 0.4560 - accuracy: 0.8363\n",
            "Epoch 10/25\n",
            "1563/1563 [==============================] - 5s 3ms/step - loss: 0.4413 - accuracy: 0.8426\n",
            "Epoch 11/25\n",
            "1563/1563 [==============================] - 5s 3ms/step - loss: 0.4256 - accuracy: 0.8481\n",
            "Epoch 12/25\n",
            "1563/1563 [==============================] - 5s 3ms/step - loss: 0.4161 - accuracy: 0.8503\n",
            "Epoch 13/25\n",
            "1563/1563 [==============================] - 5s 3ms/step - loss: 0.4043 - accuracy: 0.8539\n",
            "Epoch 14/25\n",
            "1563/1563 [==============================] - 5s 3ms/step - loss: 0.3934 - accuracy: 0.8573\n",
            "Epoch 15/25\n",
            "1563/1563 [==============================] - 5s 3ms/step - loss: 0.3807 - accuracy: 0.8627\n",
            "Epoch 16/25\n",
            "1563/1563 [==============================] - 5s 3ms/step - loss: 0.3685 - accuracy: 0.8674\n",
            "Epoch 17/25\n",
            "1563/1563 [==============================] - 5s 3ms/step - loss: 0.3611 - accuracy: 0.8703\n",
            "Epoch 18/25\n",
            "1563/1563 [==============================] - 5s 3ms/step - loss: 0.3492 - accuracy: 0.8728\n",
            "Epoch 19/25\n",
            "1563/1563 [==============================] - 5s 3ms/step - loss: 0.3430 - accuracy: 0.8751\n",
            "Epoch 20/25\n",
            "1563/1563 [==============================] - 5s 3ms/step - loss: 0.3311 - accuracy: 0.8803\n",
            "Epoch 21/25\n",
            "1563/1563 [==============================] - 5s 3ms/step - loss: 0.3178 - accuracy: 0.8847\n",
            "Epoch 22/25\n",
            "1563/1563 [==============================] - 5s 3ms/step - loss: 0.3143 - accuracy: 0.8850\n",
            "Epoch 23/25\n",
            "1563/1563 [==============================] - 5s 3ms/step - loss: 0.3073 - accuracy: 0.8873\n",
            "Epoch 24/25\n",
            "1563/1563 [==============================] - 5s 3ms/step - loss: 0.2972 - accuracy: 0.8918\n",
            "Epoch 25/25\n",
            "1563/1563 [==============================] - 5s 3ms/step - loss: 0.2923 - accuracy: 0.8935\n"
          ],
          "name": "stdout"
        },
        {
          "output_type": "execute_result",
          "data": {
            "text/plain": [
              "<tensorflow.python.keras.callbacks.History at 0x7f56b80706d0>"
            ]
          },
          "metadata": {
            "tags": []
          },
          "execution_count": 0
        }
      ]
    },
    {
      "cell_type": "markdown",
      "metadata": {
        "id": "J5qghxeMfIzN"
      },
      "source": [
        "**With CNN, at the end 5 epochs, accuracy was at around 70.28% which is a significant improvement over ANN. CNN's are best for image classification and gives superb accuracy. Also computation is much less compared to simple ANN as maxpooling reduces the image dimensions while still preserving the features**"
      ]
    },
    {
      "cell_type": "code",
      "metadata": {
        "colab": {
          "background_save": true
        },
        "id": "yKH4BaSZcrNZ",
        "outputId": "324c2458-c11d-46c9-9b1b-333164c75399"
      },
      "source": [
        "cnn.evaluate(X_test,y_test)"
      ],
      "execution_count": null,
      "outputs": [
        {
          "output_type": "stream",
          "text": [
            "313/313 [==============================] - 1s 2ms/step - loss: 1.7091 - accuracy: 0.6587\n"
          ],
          "name": "stdout"
        },
        {
          "output_type": "execute_result",
          "data": {
            "text/plain": [
              "[1.7091171741485596, 0.6586999893188477]"
            ]
          },
          "metadata": {
            "tags": []
          },
          "execution_count": 0
        }
      ]
    },
    {
      "cell_type": "code",
      "metadata": {
        "colab": {
          "background_save": true
        },
        "id": "PSuqCPzLcrKE",
        "outputId": "447a34d3-4be0-4a1a-cd4c-e8cefb06ed6b"
      },
      "source": [
        "y_pred = cnn.predict(X_test)\n",
        "y_pred[:5]"
      ],
      "execution_count": null,
      "outputs": [
        {
          "output_type": "execute_result",
          "data": {
            "text/plain": [
              "array([[2.7672654e-06, 7.5786559e-09, 1.1230712e-06, 9.9973625e-01,\n",
              "        6.9927613e-05, 1.6266426e-04, 2.7064754e-05, 1.3849503e-07,\n",
              "        6.8102253e-09, 6.6379194e-08],\n",
              "       [6.8231523e-09, 9.6478069e-01, 4.3606839e-16, 1.7684513e-12,\n",
              "        2.4561567e-22, 3.8662233e-14, 2.2008334e-25, 1.5006249e-19,\n",
              "        3.5212785e-02, 6.4881265e-06],\n",
              "       [6.3806218e-03, 9.0589201e-01, 1.4232536e-05, 2.1690170e-03,\n",
              "        5.0346544e-10, 5.0399108e-06, 2.4511102e-08, 2.7687447e-08,\n",
              "        4.1477982e-02, 4.4061046e-02],\n",
              "       [8.9520043e-01, 8.1756055e-02, 6.5830784e-05, 1.7080832e-03,\n",
              "        2.1674181e-05, 1.0483823e-06, 7.8027013e-05, 1.0285460e-06,\n",
              "        2.1167817e-02, 5.1902789e-09],\n",
              "       [4.1157708e-15, 5.2233808e-09, 8.7785523e-04, 8.3209462e-03,\n",
              "        1.2494044e-01, 6.2318272e-06, 8.6585450e-01, 5.0221938e-09,\n",
              "        2.0150671e-10, 4.9697263e-13]], dtype=float32)"
            ]
          },
          "metadata": {
            "tags": []
          },
          "execution_count": 0
        }
      ]
    },
    {
      "cell_type": "code",
      "metadata": {
        "colab": {
          "background_save": true
        },
        "id": "vyfRpUMcf6ny",
        "outputId": "45d9b07a-b9f0-4192-f036-a74629f3185f"
      },
      "source": [
        "y_classes = [np.argmax(element) for element in y_pred]\n",
        "y_classes[:5]"
      ],
      "execution_count": null,
      "outputs": [
        {
          "output_type": "execute_result",
          "data": {
            "text/plain": [
              "[3, 1, 1, 0, 6]"
            ]
          },
          "metadata": {
            "tags": []
          },
          "execution_count": 0
        }
      ]
    },
    {
      "cell_type": "code",
      "metadata": {
        "colab": {
          "background_save": true
        },
        "id": "vzfd_BVRcrIb",
        "outputId": "bc3a1d60-a200-493f-b2fe-4cfa7907f767"
      },
      "source": [
        "y_test=y_test.reshape(-1,)\n",
        "y_test[:5]"
      ],
      "execution_count": null,
      "outputs": [
        {
          "output_type": "execute_result",
          "data": {
            "text/plain": [
              "array([3, 8, 8, 0, 6], dtype=uint8)"
            ]
          },
          "metadata": {
            "tags": []
          },
          "execution_count": 0
        }
      ]
    },
    {
      "cell_type": "code",
      "metadata": {
        "colab": {
          "background_save": true
        },
        "id": "VrGYfmYScrHT",
        "outputId": "480d0796-63a2-4175-9d9a-93e9b60ccaab"
      },
      "source": [
        "#test data \n",
        "plot_sample(X_test, y_test,3)"
      ],
      "execution_count": null,
      "outputs": [
        {
          "output_type": "display_data",
          "data": {
            "image/png": "[encoded data removed]",
            "text/plain": [
              "<Figure size 1080x144 with 1 Axes>"
            ]
          },
          "metadata": {
            "tags": []
          }
        }
      ]
    },
    {
      "cell_type": "code",
      "metadata": {
        "colab": {
          "background_save": true
        },
        "id": "7VwAE_c8crGF",
        "outputId": "fa05ef9d-2fc8-42f6-ac40-b50dccb8e6d2"
      },
      "source": [
        "#predicted\n",
        "classes[y_classes[3]]"
      ],
      "execution_count": null,
      "outputs": [
        {
          "output_type": "execute_result",
          "data": {
            "application/vnd.google.colaboratory.intrinsic+json": {
              "type": "string"
            },
            "text/plain": [
              "'airplane'"
            ]
          },
          "metadata": {
            "tags": []
          },
          "execution_count": 0
        }
      ]
    },
    {
      "cell_type": "code",
      "metadata": {
        "colab": {
          "background_save": true
        },
        "id": "_CYbUtQCcrEz",
        "outputId": "6294e5af-de98-4b03-9f61-7aeb0bd6a152"
      },
      "source": [
        "print(\"Classification Report: \\n\",classification_report(y_test,y_classes))"
      ],
      "execution_count": null,
      "outputs": [
        {
          "output_type": "stream",
          "text": [
            "Classification Report: \n",
            "               precision    recall  f1-score   support\n",
            "\n",
            "           0       0.69      0.72      0.70      1000\n",
            "           1       0.77      0.82      0.79      1000\n",
            "           2       0.59      0.50      0.54      1000\n",
            "           3       0.46      0.49      0.47      1000\n",
            "           4       0.60      0.57      0.59      1000\n",
            "           5       0.53      0.59      0.56      1000\n",
            "           6       0.72      0.74      0.73      1000\n",
            "           7       0.72      0.69      0.71      1000\n",
            "           8       0.80      0.73      0.76      1000\n",
            "           9       0.73      0.73      0.73      1000\n",
            "\n",
            "    accuracy                           0.66     10000\n",
            "   macro avg       0.66      0.66      0.66     10000\n",
            "weighted avg       0.66      0.66      0.66     10000\n",
            "\n"
          ],
          "name": "stdout"
        }
      ]
    },
    {
      "cell_type": "code",
      "metadata": {
        "id": "OrfAd3jcg2xe"
      },
      "source": [
        ""
      ],
      "execution_count": null,
      "outputs": []
    }
  ]
}